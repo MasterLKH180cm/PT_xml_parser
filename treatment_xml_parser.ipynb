{
 "cells": [
  {
   "cell_type": "code",
   "execution_count": 4,
   "metadata": {},
   "outputs": [
    {
     "name": "stdout",
     "output_type": "stream",
     "text": [
      "WARNING *** OLE2 inconsistency: SSCS size is 0 but SSAT size is non-zero\n",
      "WARNING *** file size (13740617) not 512 + multiple of sector size (512)\n",
      "WARNING *** OLE2 inconsistency: SSCS size is 0 but SSAT size is non-zero\n",
      "WARNING *** file size (12265151) not 512 + multiple of sector size (512)\n",
      "WARNING *** OLE2 inconsistency: SSCS size is 0 but SSAT size is non-zero\n",
      "WARNING *** file size (4930923) not 512 + multiple of sector size (512)\n",
      "WARNING *** OLE2 inconsistency: SSCS size is 0 but SSAT size is non-zero\n"
     ]
    }
   ],
   "source": [
    "import pandas as pd\n",
    "import glob\n",
    "import numpy as np\n",
    "xls_file_list = glob.glob(r'.\\*.xls')\n",
    "df = []\n",
    "for i, f in enumerate(xls_file_list):\n",
    "    xls = pd.read_excel(f)\n",
    "    xls = xls.drop(['SACCESSIONNO', 'STYPE', 'SCREATEDATETIME','SPATIENTID', 'XMLID', 'CREATEDATETIME'],\n",
    "                   axis = 1)\n",
    "    df += [xls]\n",
    "\n",
    "df = pd.concat(df,axis=0, ignore_index = True)\n"
   ]
  },
  {
   "cell_type": "code",
   "execution_count": 5,
   "metadata": {},
   "outputs": [],
   "source": [
    "def xml_parser(xml_data):\n",
    "\n",
    "    xml_data = xml_data.replace('\\n','').replace(' ','').split('><')\n",
    "\n",
    "    data = '\\n'\n",
    "    for j, temp in enumerate(xml_data):\n",
    "        len_ascii = []\n",
    "        for k in temp:\n",
    "            len_ascii += [len(ascii(k))]\n",
    "        if '?' in temp and j > 0:\n",
    "            xml_data[j] = ''\n",
    "        elif j != len(xml_data) -1 and j != 0:\n",
    "             xml_data[j] = '<' + xml_data[j] + '>'\n",
    "        elif j == len(xml_data) -1:\n",
    "            xml_data[j] = '<' + xml_data[j]\n",
    "        elif j == 0:\n",
    "            xml_data[j] = '<?xml version=\"1.0\" encoding=\"UTF-8\"?>'\n",
    "\n",
    "            \n",
    "    \n",
    "    xml_data = data.join(xml_data)\n",
    "# \n",
    "    root = ET.fromstring(xml_data)\n",
    "    elements = root.iter()\n",
    "    dict = {}\n",
    "    for element in elements:\n",
    "        dict[element.tag] = element.text\n",
    "    return dict"
   ]
  },
  {
   "cell_type": "code",
   "execution_count": null,
   "metadata": {},
   "outputs": [],
   "source": [
    "\n",
    "for i in df['XML'][0]:\n",
    "    print(i,' : ',i.encode(),' : ',ascii(i),' : ',len(ascii(i)))\n",
    "\n",
    "#     try:\n",
    "#         i.encode('cp950').decode('big5')\n",
    "#         print('try _ 1 : ' + i)\n",
    "#     except:\n",
    "#         try:\n",
    "#             i.encode('gbk').decode('big5')\n",
    "#             print('not - 1 : ' + i)\n",
    "#         except:\n",
    "#             try:\n",
    "#                 i.encode('big5').decode('gbk')\n",
    "#                 print('not - 2 : ' + i)\n",
    "#             except:\n",
    "#                 i.encode('utf-8').decode('utf-8')\n",
    "#                 print('not - 3 : ' + i)\n",
    "print(df['XML'][0])"
   ]
  },
  {
   "cell_type": "code",
   "execution_count": 7,
   "metadata": {},
   "outputs": [],
   "source": [
    "import xml.etree.ElementTree as ET\n",
    "import re\n",
    "import string\n",
    "\n",
    "filtrate = string.printable.replace('\\n\\n','\\n').replace('\\n\\n\\n','\\n')\n",
    "filtrate = re.compile(\"[^\"+ filtrate +\"]\")\n",
    "df['xml_data'] = df['XML'].replace(filtrate,'').apply(xml_parser)\n",
    "# df.index = list(range(len(df)))"
   ]
  },
  {
   "cell_type": "code",
   "execution_count": 8,
   "metadata": {},
   "outputs": [],
   "source": [
    "\n",
    "# for tag_dict in df['xml_data']:\n",
    "output = pd.concat([pd.DataFrame(tag_dict, index=[0]) for i, tag_dict in enumerate(df['xml_data'])], axis = 0, sort=False, ignore_index = True)\n",
    "\n",
    "# output.index = list(range(len(output)))"
   ]
  },
  {
   "cell_type": "code",
   "execution_count": null,
   "metadata": {},
   "outputs": [],
   "source": [
    "output = output.replace('\\n',float('nan')).dropna(axis = 'columns', how = 'all')"
   ]
  },
  {
   "cell_type": "code",
   "execution_count": null,
   "metadata": {},
   "outputs": [],
   "source": [
    "output.to_excel(\"./output/output.xls\")"
   ]
  },
  {
   "cell_type": "code",
   "execution_count": null,
   "metadata": {},
   "outputs": [],
   "source": [
    "output"
   ]
  }
 ],
 "metadata": {
  "kernelspec": {
   "display_name": "Python 3",
   "language": "python",
   "name": "python3"
  },
  "language_info": {
   "codemirror_mode": {
    "name": "ipython",
    "version": 3
   },
   "file_extension": ".py",
   "mimetype": "text/x-python",
   "name": "python",
   "nbconvert_exporter": "python",
   "pygments_lexer": "ipython3",
   "version": "3.7.0"
  }
 },
 "nbformat": 4,
 "nbformat_minor": 4
}
